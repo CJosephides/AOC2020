{
 "cells": [
  {
   "cell_type": "code",
   "execution_count": 114,
   "id": "8265ffe2",
   "metadata": {},
   "outputs": [],
   "source": [
    "from collections import defaultdict, Counter"
   ]
  },
  {
   "cell_type": "code",
   "execution_count": 227,
   "id": "2477777c",
   "metadata": {},
   "outputs": [],
   "source": [
    "def read_file(filename):\n",
    "    \n",
    "    food_ingredient = defaultdict(set)\n",
    "    allergen_food = defaultdict(set)\n",
    "    \n",
    "    all_ingredients = []\n",
    "    all_allergens = []\n",
    "    unique_ingredients = set()\n",
    "    unique_allergens = set()\n",
    "    \n",
    "    with open(filename, 'r') as f:\n",
    "        \n",
    "        food_idx = 0\n",
    "        line = f.readline()\n",
    "        \n",
    "        while line:\n",
    "            \n",
    "            line_allergens = line.split('(')[1][8:-2].replace(' ', '').split(',')\n",
    "            unique_allergens.update(line_allergens)\n",
    "            all_allergens += line_allergens\n",
    "            \n",
    "            line_ingredients = line.split('(')[0].split(' ')[:-1]\n",
    "            unique_ingredients.update(line_ingredients)\n",
    "            all_ingredients += line_ingredients\n",
    "            \n",
    "            for line_allergen in line_allergens:\n",
    "                allergen_food[line_allergen].add(food_idx)\n",
    "                \n",
    "            food_ingredient[food_idx] = set(line_ingredients)\n",
    "            \n",
    "            # Done, next line.\n",
    "            line = f.readline()\n",
    "            food_idx += 1\n",
    "        \n",
    "        return allergen_food, food_ingredient, unique_ingredients, unique_allergens, all_ingredients"
   ]
  },
  {
   "cell_type": "code",
   "execution_count": 228,
   "id": "2f047c64",
   "metadata": {},
   "outputs": [],
   "source": [
    "def some_func(allergen_food, food_ingredient, unique_ingredients, unique_allergens):\n",
    "    allergen_ingredient = defaultdict(set)\n",
    "    for ua in unique_allergens:\n",
    "        allergen_ingredient[ua] = set(unique_ingredients)\n",
    "\n",
    "    for allergen in allergen_food:\n",
    "        foods = allergen_food[allergen]\n",
    "        for food in foods:\n",
    "            ingredients = food_ingredient[food]\n",
    "            allergen_ingredient[allergen] = set.intersection(allergen_ingredient[allergen],\n",
    "                                                             ingredients)\n",
    "\n",
    "    repeat = True\n",
    "    while repeat:\n",
    "        #print(allergen_ingredient)  \n",
    "        repeat = False\n",
    "        for allergen, ingredients in allergen_ingredient.items():\n",
    "            if len(ingredients) == 1:\n",
    "                ingredient = tuple(ingredients)[0]\n",
    "                for other_allergen, other_ingredients in allergen_ingredient.items():\n",
    "                    if (ingredient in other_ingredients) and len(other_ingredients) > 1:\n",
    "                        other_ingredients.remove(ingredient)\n",
    "                        repeat = True\n",
    "\n",
    "    #print(allergen_ingredient)\n",
    "    return allergen_ingredient"
   ]
  },
  {
   "cell_type": "code",
   "execution_count": 229,
   "id": "ad2cdc06",
   "metadata": {},
   "outputs": [],
   "source": [
    "def read_some_func(filename):\n",
    "    allergen_food, food_ingredient, unique_ingredients, unique_allergens, all_ingredients = read_file(filename)\n",
    "    allergen_ingredient = some_func(allergen_food, food_ingredient, unique_ingredients, unique_allergens)\n",
    "    \n",
    "    allergenic_ingredients = set()\n",
    "    for ingredient in allergen_ingredient.values():\n",
    "        allergenic_ingredients.update(ingredient)    \n",
    "\n",
    "    free_ingredients = set.difference(set(unique_ingredients), allergenic_ingredients)\n",
    "    \n",
    "    counts = Counter(all_ingredients)\n",
    "    total = 0\n",
    "    for free in free_ingredients:\n",
    "        total += counts[free]\n",
    "    \n",
    "    return free_ingredients, total, unique_ingredients, allergenic_ingredients, allergen_food, unique_allergens, food_ingredient"
   ]
  },
  {
   "cell_type": "code",
   "execution_count": 230,
   "id": "8a618f5b",
   "metadata": {},
   "outputs": [
    {
     "data": {
      "text/plain": [
       "({'kfcds', 'nhms', 'sbzzf', 'trh'},\n",
       " 5,\n",
       " {'fvjkl', 'kfcds', 'mxmxvkd', 'nhms', 'sbzzf', 'sqjhc', 'trh'},\n",
       " {'fvjkl', 'mxmxvkd', 'sqjhc'},\n",
       " defaultdict(set, {'dairy': {0, 1}, 'fish': {0, 3}, 'soy': {2}}),\n",
       " {'dairy', 'fish', 'soy'},\n",
       " defaultdict(set,\n",
       "             {0: {'kfcds', 'mxmxvkd', 'nhms', 'sqjhc'},\n",
       "              1: {'fvjkl', 'mxmxvkd', 'sbzzf', 'trh'},\n",
       "              2: {'fvjkl', 'sqjhc'},\n",
       "              3: {'mxmxvkd', 'sbzzf', 'sqjhc'}}))"
      ]
     },
     "execution_count": 230,
     "metadata": {},
     "output_type": "execute_result"
    }
   ],
   "source": [
    "read_some_func('small-input')"
   ]
  },
  {
   "cell_type": "code",
   "execution_count": 243,
   "id": "ab7a7716",
   "metadata": {},
   "outputs": [],
   "source": [
    "free_ingredients, total, unique_ingredients, allergenic_ingredients, allergen_food, unique_allergens, food_ingredient = read_some_func('input.txt')"
   ]
  },
  {
   "cell_type": "code",
   "execution_count": 232,
   "id": "48b2b1eb",
   "metadata": {},
   "outputs": [
    {
     "name": "stdout",
     "output_type": "stream",
     "text": [
      "2410\n"
     ]
    }
   ],
   "source": [
    "print(total)"
   ]
  },
  {
   "cell_type": "code",
   "execution_count": 233,
   "id": "6d778c92",
   "metadata": {},
   "outputs": [
    {
     "name": "stdout",
     "output_type": "stream",
     "text": [
      "192\n"
     ]
    }
   ],
   "source": [
    "print(len(free_ingredients))"
   ]
  },
  {
   "cell_type": "code",
   "execution_count": 234,
   "id": "11a82e79",
   "metadata": {},
   "outputs": [
    {
     "name": "stdout",
     "output_type": "stream",
     "text": [
      "200\n"
     ]
    }
   ],
   "source": [
    "print(len(unique_ingredients))"
   ]
  },
  {
   "cell_type": "code",
   "execution_count": 235,
   "id": "c57006c9",
   "metadata": {},
   "outputs": [
    {
     "name": "stdout",
     "output_type": "stream",
     "text": [
      "{'flnhl', 'pdpgm', 'zrvtg', 'tmp', 'cdslv', 'ttkn', 'mkpmkx', 'vxzpfp'}\n"
     ]
    }
   ],
   "source": [
    "print(allergenic_ingredients)"
   ]
  },
  {
   "cell_type": "markdown",
   "id": "5e69709d",
   "metadata": {},
   "source": [
    "## Part 2"
   ]
  },
  {
   "cell_type": "code",
   "execution_count": 236,
   "id": "b5362d51",
   "metadata": {},
   "outputs": [],
   "source": [
    "import itertools\n",
    "from copy import deepcopy"
   ]
  },
  {
   "cell_type": "code",
   "execution_count": 249,
   "id": "db0f4246",
   "metadata": {},
   "outputs": [
    {
     "name": "stdout",
     "output_type": "stream",
     "text": [
      "tmp,pdpgm,cdslv,zrvtg,ttkn,mkpmkx,vxzpfp,flnhl\n",
      "defaultdict(<class 'set'>, {0: {'sesame', 'shellfish'}, 33: {'sesame', 'shellfish'}, 2: {'sesame', 'shellfish', 'fish'}, 34: {'shellfish'}, 39: {'shellfish', 'fish'}, 11: {'shellfish'}, 14: {'shellfish', 'peanuts', 'nuts'}, 15: {'shellfish'}, 16: {'shellfish', 'fish'}, 19: {'shellfish', 'dairy'}, 20: {'sesame', 'shellfish', 'soy'}, 23: {'sesame', 'shellfish'}, 25: {'shellfish', 'fish', 'dairy'}, 28: {'wheat', 'shellfish'}, 6: {'sesame'}, 8: {'sesame', 'soy'}, 40: {'sesame', 'nuts', 'soy'}, 18: {'sesame', 'soy', 'dairy'}, 31: {'sesame', 'nuts', 'dairy'}, 1: {'fish'}, 37: {'nuts', 'fish', 'soy'}, 26: {'wheat', 'nuts', 'fish'}, 27: {'wheat', 'nuts', 'fish'}, 3: {'nuts'}, 35: {'nuts'}, 41: {'wheat', 'nuts'}, 17: {'nuts'}, 22: {'peanuts', 'nuts'}, 4: {'soy', 'dairy'}, 36: {'wheat', 'dairy'}, 7: {'dairy'}, 21: {'dairy'}, 29: {'peanuts', 'dairy'}, 5: {'wheat', 'soy'}, 13: {'peanuts', 'soy'}, 24: {'soy'}, 30: {'soy'}, 9: {'wheat', 'peanuts'}, 12: {'wheat'}, 32: {'peanuts'}, 38: {'peanuts'}, 10: {'peanuts'}})\n"
     ]
    }
   ],
   "source": [
    "free_ingredients, total, unique_ingredients, allergenic_ingredients, allergen_food, unique_allergens, food_ingredient = read_some_func('input.txt')\n",
    "\n",
    "requires = defaultdict(set)\n",
    "for allergen, foods in allergen_food.items():\n",
    "    for food in foods:\n",
    "        requires[food].add(allergen)\n",
    "\n",
    "allergen_permutations = itertools.permutations(allergenic_ingredients)\n",
    "for permutation in allergen_permutations:\n",
    "    # assign allergens via default order\n",
    "    ingredient_allergen = {}\n",
    "    for i, allergen in enumerate(unique_allergens):\n",
    "        ingredient_allergen[permutation[i]] = allergen\n",
    "        \n",
    "    allergen_ingredient = {v: k for k, v in ingredient_allergen.items()}\n",
    "    \n",
    "    #print(ingredient_allergen)\n",
    "    \n",
    "    # Remove free\n",
    "    tmp_food_ingredient = deepcopy(food_ingredient)\n",
    "    for food in tmp_food_ingredient:\n",
    "        toremove = set()\n",
    "        for ingredient in tmp_food_ingredient[food]:\n",
    "            if ingredient in free_ingredients:\n",
    "                #food_ingredient[food].remove(ingredient)\n",
    "                toremove.add(ingredient)\n",
    "        tmp_food_ingredient[food].difference_update(toremove)\n",
    "                \n",
    "    # Assign permutation\n",
    "    tmp_requires = deepcopy(requires)\n",
    "    #print(requires)\n",
    "    for food, ingredients in tmp_food_ingredient.items():\n",
    "        for ingredient in ingredients:\n",
    "            allergen = ingredient_allergen[ingredient]\n",
    "            if allergen in tmp_requires[food]:\n",
    "                tmp_requires[food].remove(allergen)\n",
    "            \n",
    "    \n",
    "    # Check requires\n",
    "    all_required = True\n",
    "    for food, allergens in tmp_requires.items():\n",
    "        if len(allergens) > 0:\n",
    "            all_required = False\n",
    "            break\n",
    "            \n",
    "    if all_required:\n",
    "        solution = ingredient_allergen\n",
    "        print(\",\".join(sorted(solution, key=lambda k: solution[k])))\n",
    "        print(tmp_requires)\n",
    "        break"
   ]
  }
 ],
 "metadata": {
  "kernelspec": {
   "display_name": "Python 3",
   "language": "python",
   "name": "python3"
  },
  "language_info": {
   "codemirror_mode": {
    "name": "ipython",
    "version": 3
   },
   "file_extension": ".py",
   "mimetype": "text/x-python",
   "name": "python",
   "nbconvert_exporter": "python",
   "pygments_lexer": "ipython3",
   "version": "3.8.10"
  }
 },
 "nbformat": 4,
 "nbformat_minor": 5
}
